{
 "cells": [
  {
   "cell_type": "code",
   "execution_count": 1,
   "metadata": {},
   "outputs": [],
   "source": [
    "import torch\n",
    "import torchvision\n",
    "import torchvision.transforms as transforms\n",
    "import math\n",
    "from pymodules.transformations import Compose, ToTensor, RandomHorizontalFlip, EqualizeAdaptiveHistogramEqualization, Resize, RandomCrop\n",
    "from pymodules.TeslaSiemensDataset import TeslaSiemensDataset\n",
    "from pymodules.model import SegNet\n",
    "from pymodules.LossFunctions import dice\n",
    "from pymodules.trainloop import train\n",
    "import matplotlib.pyplot as plt\n",
    "import torch.optim as optim\n",
    "import torch.nn as nn\n",
    "from pathlib import Path\n",
    "device = torch.device(\"cuda:0\" if torch.cuda.is_available() else \"cpu\")"
   ]
  },
  {
   "cell_type": "code",
   "execution_count": null,
   "metadata": {},
   "outputs": [],
   "source": [
    "rgb_map = [\n",
    "    [255, 0, 0],  # cap\n",
    "    [181,70,174],  # cg\n",
    "    [61,184,102],  # pz\n",
    "    [0,0,0]  # background\n",
    "]\n",
    "\n",
    "import matplotlib.pyplot as plt\n",
    "import numpy as np\n",
    "\n",
    "def vizualize_labels(true,pred):\n",
    "    maxes = torch.argmax(true, dim=0)\n",
    "    rgb_values = [rgb_map[p] for p in maxes.numpy().flatten()]\n",
    "    matlib_true = np.array(rgb_values).reshape(true.shape[1], true.shape[2], 3)\n",
    "\n",
    "    maxes = torch.argmax(pred, dim=0)\n",
    "    rgb_values = [rgb_map[p] for p in maxes.numpy().flatten()]\n",
    "    matlib_pred = np.array(rgb_values).reshape(true.shape[1], true.shape[2], 3)\n",
    "\n",
    "    f, axarr = plt.subplots(1, 2)\n",
    "    axarr[0].set_title('True')\n",
    "    axarr[0].imshow(matlib_true)\n",
    "    axarr[1].set_title('Pred')\n",
    "    axarr[1].imshow(matlib_pred)\n",
    "    plt.show()"
   ]
  },
  {
   "cell_type": "code",
   "execution_count": null,
   "metadata": {},
   "outputs": [],
   "source": [
    "transform = Compose([\n",
    "    ToTensor(),\n",
    "    Resize((368, 448)),\n",
    "    RandomHorizontalFlip()\n",
    "    RandomCrop((369,448))\n",
    "])\n",
    "\n",
    "transform_test = Compose([\n",
    "    ToTensor(),\n",
    "    Resize((368, 448)),\n",
    "])\n",
    "\n",
    "BATCH_SIZE = 5\n",
    "\n",
    "\n",
    "# Dataset needs to be downloaded\n",
    "\n",
    "trainset = TeslaSiemensDataset(root_dir='data/siemens_reduced_normalized/train/', transform=transform,include_cap=True,num_of_surrouding_imgs=1)\n",
    "trainloader = torch.utils.data.DataLoader(trainset, batch_size=BATCH_SIZE,shuffle=True)\n",
    "\n",
    "testset = TeslaSiemensDataset(root_dir='data/siemens_reduced_normalized/test/', transform=transform_test,include_cap=True,num_of_surrouding_imgs=1)\n",
    "testloader = torch.utils.data.DataLoader(testset, batch_size=BATCH_SIZE,shuffle=True)"
   ]
  },
  {
   "cell_type": "code",
   "execution_count": null,
   "metadata": {
    "scrolled": false
   },
   "outputs": [],
   "source": [
    "\n",
    "train_name = 'training'\n",
    "durchlauf = '3_images_with_cap'\n",
    "durchlauf_path = f\"train/{train_name}/{durchlauf}\"\n",
    "Path(durchlauf_path).mkdir(parents=True, exist_ok=True)\n",
    "EPOCHS = 80\n",
    "loss_fn = dice\n",
    "\n",
    "\n",
    "net = SegNet(3,4)\n",
    "net = net.to(device)\n",
    "optimizer = optim.Adam(net.parameters(), lr=0.000005)\n",
    "scheduler = optim.lr_scheduler.StepLR(optimizer, step_size=50, gamma=0.1)\n",
    "train(model=net, optimizer=optimizer, loss_fn=loss_fn, train_loader=trainloader, val_loader=testloader, epochs=EPOCHS, device=device,best_model_dir=durchlauf_path,early_stopping_patience=100,step_size_decay=scheduler)\n",
    "del net\n",
    "torch.cuda.empty_cache()"
   ]
  }
 ],
 "metadata": {
  "kernelspec": {
   "display_name": "Python 3",
   "language": "python",
   "name": "python3"
  },
  "language_info": {
   "codemirror_mode": {
    "name": "ipython",
    "version": 3
   },
   "file_extension": ".py",
   "mimetype": "text/x-python",
   "name": "python",
   "nbconvert_exporter": "python",
   "pygments_lexer": "ipython3",
   "version": "3.7.9"
  }
 },
 "nbformat": 4,
 "nbformat_minor": 4
}
